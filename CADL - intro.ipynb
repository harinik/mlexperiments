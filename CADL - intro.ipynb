{
 "cells": [
  {
   "cell_type": "markdown",
   "metadata": {},
   "source": [
    "Introduction to the Creative Applications of Deep Learning course offered by Kadenze. \n",
    "\n",
    "Working through examples in https://github.com/pkmital/CADL/blob/master/session-0/session-0.ipynb\n",
    "to understand how to work with images."
   ]
  },
  {
   "cell_type": "code",
   "execution_count": 113,
   "metadata": {},
   "outputs": [],
   "source": [
    "import os\n",
    "import urllib.request\n",
    "import matplotlib.pyplot as plt\n",
    "import numpy as np\n",
    "from skimage.transform import resize"
   ]
  },
  {
   "cell_type": "code",
   "execution_count": 114,
   "metadata": {},
   "outputs": [],
   "source": [
    "IMAGE_DIR = 'img_align_celeba'"
   ]
  },
  {
   "cell_type": "code",
   "execution_count": 115,
   "metadata": {},
   "outputs": [],
   "source": [
    "# Download images from the provided celeba dataset. \n",
    "def download_celeba_files(imgdir):\n",
    "    if not os.path.exists(imgdir):\n",
    "        os.mkdir(imgdir)\n",
    "    \n",
    "    for i in range(1, 101):\n",
    "        fname = '000%03d.jpg' % i\n",
    "        fpath = os.path.join(imgdir, fname)\n",
    "        if os.path.exists(fpath):\n",
    "            continue\n",
    "        url = 'https://s3.amazonaws.com/cadl/celeb-align/' + fname\n",
    "        print(url)\n",
    "        urllib.request.urlretrieve(url, fpath)"
   ]
  },
  {
   "cell_type": "code",
   "execution_count": 116,
   "metadata": {},
   "outputs": [],
   "source": [
    "# Display the specified image.\n",
    "def show_image(filename):\n",
    "    img = plt.imread(filename)\n",
    "    plt.imshow(img)"
   ]
  },
  {
   "cell_type": "code",
   "execution_count": 117,
   "metadata": {},
   "outputs": [],
   "source": [
    "# Crops an image to square.\n",
    "# Determines the longer side and makes it equal to the shorter side\n",
    "# by taking away equal amounts from either end of the longer side.\n",
    "def crop_to_square(img):\n",
    "    # img height is greater than the width\n",
    "    if img.shape[0] > img.shape[1]:\n",
    "        diff = img.shape[0] - img.shape[1]\n",
    "        if diff % 2 == 0:\n",
    "            crop = img[diff // 2:-diff // 2, :]\n",
    "        else:\n",
    "            crop = img[max(0, diff // 2 + 1):min(-diff // 2, -1,), :]\n",
    "    # image width is greater than height\n",
    "    elif img.shape[1] > img.shape[0]:\n",
    "        diff = img.shape[1] - img.shape[0]\n",
    "        if diff % 2 == 0:\n",
    "            crop = img[:, diff // 2:-diff // 2]\n",
    "        else:\n",
    "            crop = img[:, max(0, diff // 2 + 1):min(-diff // 2, -1)]\n",
    "    else:\n",
    "        crop = img\n",
    "    return crop"
   ]
  },
  {
   "cell_type": "code",
   "execution_count": 118,
   "metadata": {},
   "outputs": [],
   "source": [
    "# Crops the image, keeping the same aspect ratio.\n",
    "# Takes in a param between 0 and 1 that specifies the crop percentage \n",
    "def crop_keep_aspect(img, crop_pct):\n",
    "    if crop_pct <= 0 or crop_pct >= 1:\n",
    "        return img\n",
    "    r = int(img.shape[0] * crop_pct) // 2\n",
    "    c = int(img.shape[1] * crop_pct) // 2\n",
    "    return img[r:-r, c:-c]"
   ]
  },
  {
   "cell_type": "code",
   "execution_count": 119,
   "metadata": {},
   "outputs": [],
   "source": [
    "# Preprocess all the images in the specified directory.\n",
    "def preprocess_images(imgdir):\n",
    "    imgs = []\n",
    "    files = os.listdir(imgdir)\n",
    "    files = [os.path.join(imgdir, f) for f in files if '.jpg' in f]\n",
    "    for f in files:\n",
    "        img = plt.imread(f)\n",
    "        # crop to square\n",
    "        sq = crop_to_square(img)\n",
    "        # crop a certain percent of the image\n",
    "        crop = crop_keep_aspect(sq, 0.2)\n",
    "        # resize to 64x64\n",
    "        rsz = resize(crop, (64, 64))\n",
    "        imgs.append(rsz)\n",
    "    return imgs"
   ]
  },
  {
   "cell_type": "code",
   "execution_count": 124,
   "metadata": {},
   "outputs": [
    {
     "name": "stderr",
     "output_type": "stream",
     "text": [
      "/home/harini/cadl/lib/python3.5/site-packages/skimage/transform/_warps.py:84: UserWarning: The default mode, 'constant', will be changed to 'reflect' in skimage 0.15.\n",
      "  warn(\"The default mode, 'constant', will be changed to 'reflect' in \"\n"
     ]
    },
    {
     "name": "stdout",
     "output_type": "stream",
     "text": [
      "100\n",
      "(64, 64, 3)\n",
      "(100, 64, 64, 3)\n"
     ]
    }
   ],
   "source": [
    "# download and preprocess all images and hold the data in a numpy array\n",
    "download_celeba_files(IMAGE_DIR)\n",
    "imgs = preprocess_images(IMAGE_DIR)\n",
    "data = np.array(imgs)\n",
    "print(len(imgs))\n",
    "print(imgs[0].shape)\n",
    "print(data.shape)"
   ]
  },
  {
   "cell_type": "code",
   "execution_count": 125,
   "metadata": {},
   "outputs": [
    {
     "data": {
      "text/plain": [
       "<matplotlib.image.AxesImage at 0x7f0aa497f0f0>"
      ]
     },
     "execution_count": 125,
     "metadata": {},
     "output_type": "execute_result"
    },
    {
     "data": {
      "image/png": "[encoded data removed]",
      "text/plain": [
       "<Figure size 432x288 with 1 Axes>"
      ]
     },
     "metadata": {},
     "output_type": "display_data"
    }
   ],
   "source": [
    "# display a random image in the set\n",
    "plt.imshow(imgs[np.random.randint(100)])"
   ]
  },
  {
   "cell_type": "code",
   "execution_count": null,
   "metadata": {},
   "outputs": [],
   "source": []
  }
 ],
 "metadata": {
  "kernelspec": {
   "display_name": "Python 3",
   "language": "python",
   "name": "python3"
  },
  "language_info": {
   "codemirror_mode": {
    "name": "ipython",
    "version": 3
   },
   "file_extension": ".py",
   "mimetype": "text/x-python",
   "name": "python",
   "nbconvert_exporter": "python",
   "pygments_lexer": "ipython3",
   "version": "3.5.2"
  }
 },
 "nbformat": 4,
 "nbformat_minor": 2
}
