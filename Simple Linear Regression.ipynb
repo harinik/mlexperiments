{
 "cells": [
  {
   "cell_type": "markdown",
   "metadata": {},
   "source": [
    "Single-variable linear regression using Tensorflow \n",
    "\n",
    "Using the immigrant skills and salaries dataset sourced from the UFL website.\n",
    "\n",
    "Description - http://users.stat.ufl.edu/~winner/data/immwork.txt\n",
    "\n",
    "Data - http://users.stat.ufl.edu/~winner/data/immwork.dat\n",
    "\n",
    "The dataset is manually split into a training set and a test set. \n",
    "\n",
    "The feature used (X) is '% speak English' (column 3) and the output (Y) is average weekly salary (column 2)\n",
    "\n",
    "Inspired by the code in https://github.com/aymericdamien/TensorFlow-Examples/blob/master/examples/2_BasicModels/linear_regression.py"
   ]
  },
  {
   "cell_type": "code",
   "execution_count": 117,
   "metadata": {},
   "outputs": [],
   "source": [
    "import tensorflow as tf\n",
    "import numpy as np\n",
    "import matplotlib.pyplot as plt"
   ]
  },
  {
   "cell_type": "code",
   "execution_count": 118,
   "metadata": {},
   "outputs": [],
   "source": [
    "learning_rate = 0.0025 # TODO: figure out role of learning rate and how it affects convergence\n",
    "num_epochs = 18000\n",
    "progress_step = 1000"
   ]
  },
  {
   "cell_type": "code",
   "execution_count": 119,
   "metadata": {},
   "outputs": [],
   "source": [
    "# Training set\n",
    "# percent that speak English \n",
    "engper_train = np.asarray([54.9,66.0,20.3,79.4,100.0,50.9,96.5,86.1,100.0,50.3,45.6,68.6,87.5,33.5,74.7,79.5,100.0,58.8,48.7,51.3,21.1,46.4,96.9,43.5,45.2])\n",
    "\n",
    "# average weekly salary\n",
    "sal_train = np.asarray([9.73,13.07,10.31,10.62,14.15,11.37,14.32,12.04,14.13,13.27,11.07,12.92,13.63,8.41,12.71,14.37,13.01,11.28,9.61,11.03,8.95,11.65,15.28,11.06,8.10])\n",
    "\n",
    "num_training_samples = engper_train.shape[0]\n",
    "\n",
    "# Test set\n",
    "engper_test = np.asarray([33.3,43.6,36.8,100.0,41.2,55.6,51.7,94.7,54.6,22.5])\n",
    "sal_test = np.asarray([10.90,11.01,9.92,15.24,10.75,11.95,12.15,15.36,8.12,7.65])\n",
    "\n",
    "num_test_samples = engper_test.shape[0]"
   ]
  },
  {
   "cell_type": "code",
   "execution_count": 120,
   "metadata": {},
   "outputs": [],
   "source": [
    "# create placeholders for X and Y - this allows input data to be fed in.\n",
    "X = tf.placeholder(\"float\")\n",
    "Y = tf.placeholder(\"float\")\n",
    "\n",
    "# create variables for weight and bias - these are trainable by default and change during the training.\n",
    "W = tf.Variable(np.random.randn(), name=\"weight\")\n",
    "b = tf.Variable(np.random.randn(), name=\"bias\")"
   ]
  },
  {
   "cell_type": "code",
   "execution_count": 121,
   "metadata": {},
   "outputs": [],
   "source": [
    "# the predicted value is W.x + b\n",
    "pred = tf.add(tf.multiply(W, X), b)"
   ]
  },
  {
   "cell_type": "code",
   "execution_count": 122,
   "metadata": {},
   "outputs": [],
   "source": [
    "# estimate the cost - mean-squared error\n",
    "cost = tf.reduce_sum(tf.pow(pred-Y, 2))/(2*num_training_samples)"
   ]
  },
  {
   "cell_type": "code",
   "execution_count": 123,
   "metadata": {},
   "outputs": [],
   "source": [
    "# use a Gradient descent optimizer that minimizes the cost.\n",
    "optimizer = tf.train.GradientDescentOptimizer(learning_rate).minimize(cost)"
   ]
  },
  {
   "cell_type": "code",
   "execution_count": 124,
   "metadata": {},
   "outputs": [],
   "source": [
    "# define the init operation\n",
    "init = tf.global_variables_initializer()"
   ]
  },
  {
   "cell_type": "code",
   "execution_count": 125,
   "metadata": {},
   "outputs": [
    {
     "name": "stdout",
     "output_type": "stream",
     "text": [
      "epoch: 0, cost: 5.099938, W: 0.185407, b: -0.473539\n",
      "epoch: 1000, cost: 3.003444, W: 0.151733, b: 1.779677\n",
      "epoch: 2000, cost: 1.905711, W: 0.127362, b: 3.410412\n",
      "epoch: 3000, cost: 1.331014, W: 0.109724, b: 4.590634\n",
      "epoch: 4000, cost: 1.030199, W: 0.096959, b: 5.444812\n",
      "epoch: 5000, cost: 0.872788, W: 0.087720, b: 6.063004\n",
      "epoch: 6000, cost: 0.790450, W: 0.081034, b: 6.510389\n",
      "epoch: 7000, cost: 0.747387, W: 0.076193, b: 6.834304\n",
      "epoch: 8000, cost: 0.724908, W: 0.072692, b: 7.068530\n",
      "epoch: 9000, cost: 0.713163, W: 0.070157, b: 7.238210\n",
      "epoch: 10000, cost: 0.707041, W: 0.068321, b: 7.361061\n",
      "epoch: 11000, cost: 0.703861, W: 0.066994, b: 7.449854\n",
      "epoch: 12000, cost: 0.702214, W: 0.066036, b: 7.513961\n",
      "epoch: 13000, cost: 0.701359, W: 0.065340, b: 7.560522\n",
      "epoch: 14000, cost: 0.700923, W: 0.064840, b: 7.593941\n",
      "epoch: 15000, cost: 0.700698, W: 0.064476, b: 7.618327\n",
      "epoch: 16000, cost: 0.700584, W: 0.064211, b: 7.636057\n",
      "epoch: 17000, cost: 0.700527, W: 0.064019, b: 7.648896\n",
      "Training complete: c=0.700499\n"
     ]
    },
    {
     "data": {
      "image/png": "[encoded data removed]",
      "text/plain": [
       "<Figure size 432x288 with 1 Axes>"
      ]
     },
     "metadata": {},
     "output_type": "display_data"
    },
    {
     "name": "stdout",
     "output_type": "stream",
     "text": [
      "test cost=0.957344\n",
      "cost diff=0.256845\n"
     ]
    },
    {
     "data": {
      "image/png": "[encoded data removed]",
      "text/plain": [
       "<Figure size 432x288 with 1 Axes>"
      ]
     },
     "metadata": {},
     "output_type": "display_data"
    }
   ],
   "source": [
    "# start up a session and run the operations\n",
    "with tf.Session() as sess:\n",
    "    sess.run(init)\n",
    "    \n",
    "    # in this case, epoch is basically same as the step since batch size is 1.\n",
    "    for epoch in range(num_epochs):\n",
    "        for (x, y) in zip(engper_train, sal_train):\n",
    "            sess.run(optimizer, feed_dict={X: x, Y:y})\n",
    "\n",
    "        # Output progress\n",
    "        if epoch%progress_step == 0:\n",
    "            c = sess.run(cost, feed_dict={X: engper_train, Y: sal_train})\n",
    "            print('epoch: %d, cost: %f, W: %f, b: %f' % (epoch, c, sess.run(W), sess.run(b)))\n",
    "    \n",
    "    training_cost = sess.run(cost, feed_dict={X: engper_train, Y: sal_train})\n",
    "    print 'Training complete: c=%f' % training_cost\n",
    "    \n",
    "    # Plot the trained data\n",
    "    plt.plot(engper_train, sal_train, 'ro', label='Original data')\n",
    "    plt.plot(engper_train, sess.run(W) * engper_train + sess.run(b), label='Fitted training line')\n",
    "    plt.legend()\n",
    "    plt.show()\n",
    "    \n",
    "    tcost = tf.reduce_sum(tf.pow(pred-Y, 2))/(2*num_test_samples)\n",
    "    test_cost = sess.run(tcost, feed_dict={X: engper_test, Y: sal_test})\n",
    "    print('test cost=%f' % test_cost)\n",
    "    print('cost diff=%f' % abs(test_cost - training_cost))\n",
    "    \n",
    "    # Plot the test data\n",
    "    plt.plot(engper_test, sal_test, 'bx', label='Test data')\n",
    "    plt.plot(engper_test, sess.run(W) * engper_test + sess.run(b), label='Fitted test line')\n",
    "    plt.legend()\n",
    "    plt.show()"
   ]
  },
  {
   "cell_type": "code",
   "execution_count": null,
   "metadata": {},
   "outputs": [],
   "source": []
  }
 ],
 "metadata": {
  "kernelspec": {
   "display_name": "Python 2",
   "language": "python",
   "name": "python2"
  },
  "language_info": {
   "codemirror_mode": {
    "name": "ipython",
    "version": 2
   },
   "file_extension": ".py",
   "mimetype": "text/x-python",
   "name": "python",
   "nbconvert_exporter": "python",
   "pygments_lexer": "ipython2",
   "version": "2.7.12"
  }
 },
 "nbformat": 4,
 "nbformat_minor": 2
}
