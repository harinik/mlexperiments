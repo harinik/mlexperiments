{
 "cells": [
  {
   "cell_type": "markdown",
   "metadata": {},
   "source": [
    "Single-variable linear regression using Tensorflow \n",
    "\n",
    "Using the immigrant skills and salaries dataset sourced from the UFL website.\n",
    "\n",
    "Description - http://users.stat.ufl.edu/~winner/data/immwork.txt\n",
    "\n",
    "Data - http://users.stat.ufl.edu/~winner/data/immwork.dat\n",
    "\n",
    "The dataset is manually split into a training set and a test set. \n",
    "\n",
    "The feature used (X) is '% speak English' (column 3) and the output (Y) is average weekly salary (column 2)\n",
    "\n",
    "Inspired by the code in https://github.com/aymericdamien/TensorFlow-Examples/blob/master/examples/2_BasicModels/linear_regression.py\n",
    "\n",
    "and https://medium.com/all-of-us-are-belong-to-machines/the-gentlest-introduction-to-tensorflow-248dc871a224"
   ]
  },
  {
   "cell_type": "code",
   "execution_count": 125,
   "metadata": {},
   "outputs": [],
   "source": [
    "import tensorflow as tf\n",
    "import numpy as np\n",
    "import matplotlib.pyplot as plt"
   ]
  },
  {
   "cell_type": "code",
   "execution_count": 126,
   "metadata": {},
   "outputs": [],
   "source": [
    "learning_rate = 0.0025 # TODO: figure out role of learning rate and how it affects convergence\n",
    "num_epochs = 15000\n",
    "progress_step = 1000"
   ]
  },
  {
   "cell_type": "code",
   "execution_count": 127,
   "metadata": {},
   "outputs": [],
   "source": [
    "# Training set\n",
    "# percent that speak English \n",
    "engper_train = np.asarray([54.9,66.0,20.3,79.4,100.0,50.9,96.5,86.1,100.0,50.3,45.6,68.6,87.5,33.5,74.7,79.5,100.0,58.8,48.7,51.3,21.1,46.4,96.9,43.5,45.2])\n",
    "# average weekly salary\n",
    "sal_train = np.asarray([9.73,13.07,10.31,10.62,14.15,11.37,14.32,12.04,14.13,13.27,11.07,12.92,13.63,8.41,12.71,14.37,13.01,11.28,9.61,11.03,8.95,11.65,15.28,11.06,8.10])\n",
    "\n",
    "num_training_samples = engper_train.shape[0]\n",
    "\n",
    "# Test set\n",
    "engper_test = np.asarray([33.3,43.6,36.8,100.0,41.2,55.6,51.7,94.7,54.6,22.5])\n",
    "sal_test = np.asarray([10.90,11.01,9.92,15.24,10.75,11.95,12.15,15.36,8.12,7.65])\n",
    "\n",
    "num_test_samples = engper_test.shape[0]"
   ]
  },
  {
   "cell_type": "code",
   "execution_count": 128,
   "metadata": {},
   "outputs": [],
   "source": [
    "# create placeholders for X and Y - this allows input data to be fed in.\n",
    "# use matrices to represent X and Y\n",
    "# X has 1 column representing the % speaking English, None implies the number of rows is unknown.\n",
    "X = tf.placeholder(tf.float32, [None, 1])\n",
    "# Y has 1 column representing the average weekly salary, None implies the numbe of rows is unknown.\n",
    "Y = tf.placeholder(tf.float32, [None, 1])\n",
    "\n",
    "# create variables for weight and bias - these are trainable by default and change during the training.\n",
    "# The weight has 1 feature and 1 output\n",
    "W = tf.Variable(tf.zeros([1,1]), name=\"weight\")\n",
    "b = tf.Variable(tf.zeros([1]), name=\"bias\")"
   ]
  },
  {
   "cell_type": "code",
   "execution_count": 129,
   "metadata": {},
   "outputs": [],
   "source": [
    "# the predicted value is W.x + b\n",
    "# the order for matmul is X. W since X has shape (?, 1) and W has shape (1, 1)\n",
    "pred = tf.matmul(X, W) + b"
   ]
  },
  {
   "cell_type": "code",
   "execution_count": 130,
   "metadata": {},
   "outputs": [],
   "source": [
    "# estimate the cost - mean-squared error\n",
    "cost = tf.reduce_sum(tf.pow(pred-Y, 2))/(2*num_training_samples)"
   ]
  },
  {
   "cell_type": "code",
   "execution_count": 131,
   "metadata": {},
   "outputs": [],
   "source": [
    "# use a Gradient descent optimizer that minimizes the cost.\n",
    "optimizer = tf.train.GradientDescentOptimizer(learning_rate).minimize(cost)"
   ]
  },
  {
   "cell_type": "code",
   "execution_count": 132,
   "metadata": {},
   "outputs": [],
   "source": [
    "# define the init operation\n",
    "init = tf.global_variables_initializer()"
   ]
  },
  {
   "cell_type": "code",
   "execution_count": 133,
   "metadata": {},
   "outputs": [
    {
     "name": "stdout",
     "output_type": "stream",
     "text": [
      "epoch: 0, cost: 4.598212, W: 0.178252, b: 0.005211\n",
      "epoch: 1000, cost: 2.740721, W: 0.146555, b: 2.126172\n",
      "epoch: 2000, cost: 1.768161, W: 0.123615, b: 3.661180\n",
      "epoch: 3000, cost: 1.259011, W: 0.107012, b: 4.772125\n",
      "epoch: 4000, cost: 0.992506, W: 0.094995, b: 5.576202\n",
      "epoch: 5000, cost: 0.853066, W: 0.086299, b: 6.158102\n",
      "epoch: 6000, cost: 0.780136, W: 0.080005, b: 6.579223\n",
      "epoch: 7000, cost: 0.742003, W: 0.075449, b: 6.884064\n",
      "epoch: 8000, cost: 0.722093, W: 0.072154, b: 7.104583\n",
      "epoch: 9000, cost: 0.711698, W: 0.069767, b: 7.264263\n",
      "epoch: 10000, cost: 0.706274, W: 0.068037, b: 7.380020\n",
      "epoch: 11000, cost: 0.703462, W: 0.066789, b: 7.463570\n",
      "epoch: 12000, cost: 0.702010, W: 0.065889, b: 7.523752\n",
      "epoch: 13000, cost: 0.701253, W: 0.065232, b: 7.567696\n",
      "epoch: 14000, cost: 0.700869, W: 0.064763, b: 7.599122\n",
      "Training complete: c=0.700670\n"
     ]
    },
    {
     "data": {
      "image/png": "[encoded data removed]",
      "text/plain": [
       "<Figure size 432x288 with 1 Axes>"
      ]
     },
     "metadata": {},
     "output_type": "display_data"
    },
    {
     "name": "stdout",
     "output_type": "stream",
     "text": [
      "test cost=0.952021\n",
      "cost diff=0.251351\n"
     ]
    },
    {
     "data": {
      "image/png": "[encoded data removed]",
      "text/plain": [
       "<Figure size 432x288 with 1 Axes>"
      ]
     },
     "metadata": {},
     "output_type": "display_data"
    }
   ],
   "source": [
    "# start up a session and run the operations\n",
    "with tf.Session() as sess:\n",
    "    sess.run(init)\n",
    "    \n",
    "    # in this case, epoch is basically same as the step since batch size is 1.\n",
    "    for epoch in range(num_epochs):\n",
    "        for (x, y) in zip(engper_train, sal_train): \n",
    "            # x and y as read are scalars. They need to be converted into numpy arrays of the correct shape\n",
    "            # (in this case, 1 row and 1 column i.e. [1,1]).\n",
    "            sess.run(optimizer, feed_dict={X: np.asarray([[x]]), Y:np.asarray([[y]])})\n",
    "\n",
    "        # Output progress\n",
    "        if epoch%progress_step == 0:\n",
    "            # again, the training data needs to be reshaped to (?, 1) to match the placeholder shapes. \n",
    "            c = sess.run(cost, feed_dict={X: np.reshape(engper_train, (-1, 1)),\n",
    "                                          Y: np.reshape(sal_train, (-1, 1))})\n",
    "            print('epoch: %d, cost: %f, W: %f, b: %f' % (epoch, c, sess.run(W), sess.run(b)))\n",
    "    \n",
    "    training_cost = sess.run(cost, feed_dict={X: np.reshape(engper_train, (-1,1)), \n",
    "                                              Y: np.reshape(sal_train, (-1, 1))})\n",
    "    print 'Training complete: c=%f' % training_cost\n",
    "    \n",
    "    # Plot the trained data\n",
    "    plt.plot(engper_train, sal_train, 'ro', label='Original data')\n",
    "    # reshape the predicted value into a simple array so that it can be plotted.\n",
    "    # -1 indicates that the number of elements will be inferred automatically.\n",
    "    y = np.reshape(sess.run(W) * engper_train + sess.run(b), -1)\n",
    "    plt.plot(engper_train, y, label='Fitted training line')\n",
    "    plt.legend()\n",
    "    plt.show()\n",
    "    \n",
    "    tcost = tf.reduce_sum(tf.pow(pred-Y, 2))/(2*num_test_samples)\n",
    "    test_cost = sess.run(tcost, feed_dict={X: np.reshape(engper_test, (-1, 1)), \n",
    "                                           Y: np.reshape(sal_test, (-1, 1))})\n",
    "    print('test cost=%f' % test_cost)\n",
    "    print('cost diff=%f' % abs(test_cost - training_cost))\n",
    "    \n",
    "    # Plot the test data\n",
    "    plt.plot(engper_test, sal_test, 'bx', label='Test data')\n",
    "    # reshape the predicted value into a simple array so that it can be plotted.\n",
    "    test_y = np.reshape(sess.run(W) * engper_test + sess.run(b), -1)\n",
    "    plt.plot(engper_test, test_y , label='Fitted test line')\n",
    "    plt.legend()\n",
    "    plt.show()"
   ]
  },
  {
   "cell_type": "code",
   "execution_count": null,
   "metadata": {},
   "outputs": [],
   "source": []
  }
 ],
 "metadata": {
  "kernelspec": {
   "display_name": "Python 2",
   "language": "python",
   "name": "python2"
  },
  "language_info": {
   "codemirror_mode": {
    "name": "ipython",
    "version": 2
   },
   "file_extension": ".py",
   "mimetype": "text/x-python",
   "name": "python",
   "nbconvert_exporter": "python",
   "pygments_lexer": "ipython2",
   "version": "2.7.12"
  }
 },
 "nbformat": 4,
 "nbformat_minor": 2
}
