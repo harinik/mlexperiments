{
 "cells": [
  {
   "cell_type": "markdown",
   "metadata": {},
   "source": [
    "#### Basics of numpy\n",
    "Learning from this tutorial - http://cs231n.github.io/python-numpy-tutorial/"
   ]
  },
  {
   "cell_type": "code",
   "execution_count": 2,
   "metadata": {},
   "outputs": [],
   "source": [
    "import numpy as np"
   ]
  },
  {
   "cell_type": "markdown",
   "metadata": {},
   "source": [
    "#### Shape of numpy arrays"
   ]
  },
  {
   "cell_type": "code",
   "execution_count": 3,
   "metadata": {},
   "outputs": [
    {
     "name": "stdout",
     "output_type": "stream",
     "text": [
      "(3,)\n"
     ]
    }
   ],
   "source": [
    "a = np.array([1, 2, 3])\n",
    "print a.shape"
   ]
  },
  {
   "cell_type": "code",
   "execution_count": 4,
   "metadata": {},
   "outputs": [
    {
     "name": "stdout",
     "output_type": "stream",
     "text": [
      "(3, 4)\n"
     ]
    }
   ],
   "source": [
    "b = np.array([[1, 2, 3, 4], [5, 6, 7, 8], [9, 10, 11, 12]])\n",
    "print b.shape"
   ]
  },
  {
   "cell_type": "markdown",
   "metadata": {},
   "source": [
    "#### Indexing by integers and slices\n",
    "\n",
    "The result of indexing by slices is always a subarray of the original.\n",
    "\n",
    "The result of indexing by integers can be used to construct arbitrary arrays."
   ]
  },
  {
   "cell_type": "code",
   "execution_count": 5,
   "metadata": {},
   "outputs": [
    {
     "name": "stdout",
     "output_type": "stream",
     "text": [
      "[[ 6  7]\n",
      " [10 11]]\n"
     ]
    }
   ],
   "source": [
    "# extract using slices\n",
    "# 1: -> all rows >= 1\n",
    "# 1:3 -> all columns [1,3) i.e. 1 and 2\n",
    "print b[1:, 1:3]"
   ]
  },
  {
   "cell_type": "code",
   "execution_count": 6,
   "metadata": {},
   "outputs": [
    {
     "name": "stdout",
     "output_type": "stream",
     "text": [
      "[[ 7]\n",
      " [11]]\n"
     ]
    }
   ],
   "source": [
    "# 1:3 -> all rows between 1 and 3\n",
    "# 2:3 -> all columns [2,3) i.e. 2.\n",
    "print b[1:3, 2:3]"
   ]
  },
  {
   "cell_type": "code",
   "execution_count": 7,
   "metadata": {},
   "outputs": [
    {
     "name": "stdout",
     "output_type": "stream",
     "text": [
      "(4,)\n"
     ]
    }
   ],
   "source": [
    "# extract single row using integers\n",
    "# 1 -> row 1\n",
    "# : -> all columns\n",
    "# The result is a single array.\n",
    "c = b[1, :]\n",
    "print c.shape"
   ]
  },
  {
   "cell_type": "code",
   "execution_count": 8,
   "metadata": {},
   "outputs": [
    {
     "name": "stdout",
     "output_type": "stream",
     "text": [
      "(1, 4)\n"
     ]
    }
   ],
   "source": [
    "# extract single row using slices - the difference between this and the above method using an integer\n",
    "# is the shape of the result.\n",
    "# 1:2 -> row 1\n",
    "# The number of columns is the same as the original (b)\n",
    "d = b[1:2, :]\n",
    "print d.shape"
   ]
  },
  {
   "cell_type": "code",
   "execution_count": 9,
   "metadata": {},
   "outputs": [
    {
     "name": "stdout",
     "output_type": "stream",
     "text": [
      "(3,)\n"
     ]
    }
   ],
   "source": [
    "# Similarly for columns\n",
    "# This results in a single array.\n",
    "# : -> all rows\n",
    "# 2 -> column 2\n",
    "e = b[:, 2]\n",
    "print e.shape"
   ]
  },
  {
   "cell_type": "code",
   "execution_count": 10,
   "metadata": {},
   "outputs": [
    {
     "name": "stdout",
     "output_type": "stream",
     "text": [
      "(3, 1)\n"
     ]
    }
   ],
   "source": [
    "# This results in an array with the same number of rows as the original.\n",
    "# : -> all rows\n",
    "# 2:3 -> all columns [2:3) i.e. 2.\n",
    "f = b[:, 2:3]\n",
    "print f.shape"
   ]
  },
  {
   "cell_type": "code",
   "execution_count": 11,
   "metadata": {},
   "outputs": [
    {
     "name": "stdout",
     "output_type": "stream",
     "text": [
      "(3, 2)\n",
      "[[1 2]\n",
      " [3 4]\n",
      " [5 6]]\n",
      "[1 4 5]\n",
      "[2 2]\n"
     ]
    }
   ],
   "source": [
    "a = np.array([[1,2], [3,4], [5,6]])\n",
    "print a.shape\n",
    "# get all rows\n",
    "print a[[0,1,2]]\n",
    "# get col 0 of row 0, col 1 of row 1, col 0 of row 2\n",
    "print a[[0,1,2],[0,1,0]]\n",
    "# print the same element (col 1 of row 0) from a\n",
    "print a[[0, 0], [1, 1]]"
   ]
  },
  {
   "cell_type": "markdown",
   "metadata": {},
   "source": [
    "#### Mutating using integer indexes"
   ]
  },
  {
   "cell_type": "code",
   "execution_count": 12,
   "metadata": {},
   "outputs": [
    {
     "name": "stdout",
     "output_type": "stream",
     "text": [
      "[ 1  7 10]\n",
      "[3 6]\n",
      "[[ 1  2 13  4]\n",
      " [ 5 16  7  8]\n",
      " [ 9 10 11 12]]\n"
     ]
    }
   ],
   "source": [
    "a = np.array([[1,2,3,4], [5,6,7,8],[9,10,11,12]])\n",
    "# get cols 0, 2, 1 of rows 0,1,2 respectively\n",
    "print a[np.arange(3), np.array([0,2,1])]\n",
    "\n",
    "# get a[0,2] and a[1,1] \n",
    "print a[np.arange(2), np.array([2,1])]\n",
    "\n",
    "# increment a[0,2] and a[1,1] by 10\n",
    "a[np.arange(2), np.array([2, 1])] += 10\n",
    "print a"
   ]
  },
  {
   "cell_type": "markdown",
   "metadata": {},
   "source": [
    "#### Using boolean indexes"
   ]
  },
  {
   "cell_type": "code",
   "execution_count": 13,
   "metadata": {},
   "outputs": [
    {
     "name": "stdout",
     "output_type": "stream",
     "text": [
      "[3 4 5 6]\n",
      "[3 4 5 6]\n"
     ]
    }
   ],
   "source": [
    "a = np.array([[1,2], [3,4], [5,6]])\n",
    "\n",
    "# get all elements > 2\n",
    "ind = (a > 2)\n",
    "print a[ind]\n",
    "print a[a>2]"
   ]
  },
  {
   "cell_type": "markdown",
   "metadata": {},
   "source": [
    "#### Array and matrix math"
   ]
  },
  {
   "cell_type": "code",
   "execution_count": 14,
   "metadata": {},
   "outputs": [
    {
     "name": "stdout",
     "output_type": "stream",
     "text": [
      "[[ 8. 10.]\n",
      " [12. 14.]]\n",
      "[[-6. -6.]\n",
      " [-6. -6.]]\n",
      "[[ 7. 16.]\n",
      " [27. 40.]]\n",
      "[[0.14285714 0.25      ]\n",
      " [0.33333333 0.4       ]]\n"
     ]
    }
   ],
   "source": [
    "# Element-wise operations\n",
    "x = np.array([[1, 2], [3, 4]], dtype=np.float64)\n",
    "y = np.array([[7, 8], [9, 10]], dtype=np.float64)\n",
    "\n",
    "print x + y # same as np.add(x, y)\n",
    "\n",
    "print x - y # same as np.subtract(x, y)\n",
    "\n",
    "# element-wise multiplication NOT matrix multiplication\n",
    "print x * y # same as np.multiply(x, y)\n",
    "\n",
    "print x / y # same as np.divide(x, y)"
   ]
  },
  {
   "cell_type": "code",
   "execution_count": 15,
   "metadata": {},
   "outputs": [
    {
     "name": "stdout",
     "output_type": "stream",
     "text": [
      "(2,)\n",
      "419\n",
      "[41. 95.]\n",
      "[[25. 28.]\n",
      " [57. 64.]]\n"
     ]
    }
   ],
   "source": [
    "# Vectors\n",
    "v = np.array([13, 14])\n",
    "w = np.array([15, 16])\n",
    "print v.shape\n",
    "\n",
    "print v.dot(w) # results in a scalar\n",
    "\n",
    "# product of matrix and vector\n",
    "print x.dot(v) # same as np.dot(x, v) \n",
    "\n",
    "# product of 2 matrices\n",
    "print x.dot(y) "
   ]
  },
  {
   "cell_type": "markdown",
   "metadata": {},
   "source": [
    "#### Broadcasting \n",
    "\n",
    "Broadcasting is how numpy treats arrays of different sizes during arithmetic operations. "
   ]
  },
  {
   "cell_type": "code",
   "execution_count": 16,
   "metadata": {},
   "outputs": [
    {
     "data": {
      "text/plain": [
       "array([3, 4, 5])"
      ]
     },
     "execution_count": 16,
     "metadata": {},
     "output_type": "execute_result"
    }
   ],
   "source": [
    "# simple example of broadcasting to add a scalar to a vector. \n",
    "# numpy treats y as if it were an array with dim (3,1)\n",
    "x = np.array([1,2,3])\n",
    "y = 2\n",
    "print x + y"
   ]
  },
  {
   "cell_type": "code",
   "execution_count": 28,
   "metadata": {},
   "outputs": [
    {
     "name": "stdout",
     "output_type": "stream",
     "text": [
      "(3, 2, 3)\n",
      "(2, 3)\n",
      "[[[  10   40   90]\n",
      "  [ 160  250  360]]\n",
      "\n",
      " [[  70  160  270]\n",
      "  [ 400  550  720]]\n",
      "\n",
      " [[ 130  280  450]\n",
      "  [ 640  850 1080]]]\n",
      "(1, 3)\n",
      "[[[ 10  40  90]\n",
      "  [ 40 100 180]]\n",
      "\n",
      " [[ 70 160 270]\n",
      "  [100 220 360]]\n",
      "\n",
      " [[130 280 450]\n",
      "  [160 340 540]]]\n",
      "(3,)\n",
      "(3, 3)\n",
      "[[ 2  4  6]\n",
      " [ 5  7  9]\n",
      " [ 8 10 12]]\n"
     ]
    }
   ],
   "source": [
    "# For broadcasting, arrays have to have compatible shapes. \n",
    "# The dimensions have to be equal or one of them has to be 1.\n",
    "x = np.array([[[1, 2, 3],\n",
    "               [4, 5, 6]],\n",
    "              [[7, 8, 9],\n",
    "              [10, 11, 12]],\n",
    "             [[13, 14, 15],\n",
    "             [16, 17, 18]]])\n",
    "print x.shape\n",
    "y = np.array([[10, 20, 30],\n",
    "              [40, 50, 60]])\n",
    "print y.shape\n",
    "print x * y\n",
    "\n",
    "z = np.array([[10, 20, 30]])\n",
    "print z.shape\n",
    "\n",
    "print x * z"
   ]
  },
  {
   "cell_type": "code",
   "execution_count": 35,
   "metadata": {},
   "outputs": [
    {
     "name": "stdout",
     "output_type": "stream",
     "text": [
      "(3,)\n",
      "(3, 3)\n",
      "[[ 2  4  6]\n",
      " [ 5  7  9]\n",
      " [ 8 10 12]]\n",
      "[[ 2  3  4]\n",
      " [ 6  7  8]\n",
      " [10 11 12]]\n"
     ]
    }
   ],
   "source": [
    "v = np.array([1, 2, 3])\n",
    "w = np.array([[1, 2, 3],\n",
    "             [4, 5, 6],\n",
    "             [7, 8, 9]])\n",
    "print v.shape\n",
    "print w.shape\n",
    "\n",
    "# add a vector to each row of a matrix\n",
    "print v + w\n",
    "\n",
    "# add a vector to each column of a matrix\n",
    "print v.reshape(3, 1) + w"
   ]
  },
  {
   "cell_type": "code",
   "execution_count": 26,
   "metadata": {},
   "outputs": [
    {
     "ename": "ValueError",
     "evalue": "operands could not be broadcast together with shapes (3,) (2,) ",
     "output_type": "error",
     "traceback": [
      "\u001b[0;31m---------------------------------------------------------------------------\u001b[0m",
      "\u001b[0;31mValueError\u001b[0m                                Traceback (most recent call last)",
      "\u001b[0;32m<ipython-input-26-aed8775a0db9>\u001b[0m in \u001b[0;36m<module>\u001b[0;34m()\u001b[0m\n\u001b[1;32m      3\u001b[0m \u001b[0my\u001b[0m \u001b[0;34m=\u001b[0m \u001b[0mnp\u001b[0m\u001b[0;34m.\u001b[0m\u001b[0marray\u001b[0m\u001b[0;34m(\u001b[0m\u001b[0;34m[\u001b[0m\u001b[0;36m10\u001b[0m\u001b[0;34m,\u001b[0m \u001b[0;36m20\u001b[0m\u001b[0;34m]\u001b[0m\u001b[0;34m)\u001b[0m\u001b[0;34m\u001b[0m\u001b[0m\n\u001b[1;32m      4\u001b[0m \u001b[0;34m\u001b[0m\u001b[0m\n\u001b[0;32m----> 5\u001b[0;31m \u001b[0;32mprint\u001b[0m \u001b[0mx\u001b[0m \u001b[0;34m+\u001b[0m \u001b[0my\u001b[0m\u001b[0;34m\u001b[0m\u001b[0m\n\u001b[0m",
      "\u001b[0;31mValueError\u001b[0m: operands could not be broadcast together with shapes (3,) (2,) "
     ]
    }
   ],
   "source": [
    "# examples where broadcasting doesn't work\n",
    "x = np.array([1, 2, 3])\n",
    "y = np.array([10, 20])\n",
    "\n",
    "print x + y"
   ]
  },
  {
   "cell_type": "code",
   "execution_count": null,
   "metadata": {},
   "outputs": [],
   "source": []
  }
 ],
 "metadata": {
  "kernelspec": {
   "display_name": "Python 2",
   "language": "python",
   "name": "python2"
  },
  "language_info": {
   "codemirror_mode": {
    "name": "ipython",
    "version": 2
   },
   "file_extension": ".py",
   "mimetype": "text/x-python",
   "name": "python",
   "nbconvert_exporter": "python",
   "pygments_lexer": "ipython2",
   "version": "2.7.12"
  }
 },
 "nbformat": 4,
 "nbformat_minor": 2
}
