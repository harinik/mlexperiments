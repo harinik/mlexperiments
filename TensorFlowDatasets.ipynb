{
 "cells": [
  {
   "cell_type": "code",
   "execution_count": 514,
   "metadata": {},
   "outputs": [],
   "source": [
    "import numpy as np\n",
    "import tensorflow as tf"
   ]
  },
  {
   "cell_type": "code",
   "execution_count": 515,
   "metadata": {},
   "outputs": [],
   "source": [
    "learning_rate = 0.00001 \n",
    "num_epochs = 1000\n",
    "progress_step = 100"
   ]
  },
  {
   "cell_type": "code",
   "execution_count": 516,
   "metadata": {},
   "outputs": [],
   "source": [
    "def _parse_line(line):\n",
    "    defaults = [[0.0], [0.0]]\n",
    "    fields = tf.decode_csv(line, defaults)\n",
    "    features = fields[0]\n",
    "    labels = fields[1]\n",
    "    features = tf.reshape(features, [1, 1])\n",
    "    return (features, labels)"
   ]
  },
  {
   "cell_type": "code",
   "execution_count": 517,
   "metadata": {},
   "outputs": [
    {
     "name": "stdout",
     "output_type": "stream",
     "text": [
      "<MapDataset shapes: ((1, 1), ()), types: (tf.float32, tf.float32)>\n"
     ]
    }
   ],
   "source": [
    "dstrain = tf.data.TextLineDataset(['/home/harini/tensorflow/notebooks/immdata-train.csv'])\n",
    "dstrain = dstrain.map(_parse_line)\n",
    "print dstrain\n",
    "\n",
    "dstest = tf.data.TextLineDataset(['/home/harini/tensorflow/notebooks/immdata-test.csv'])\n",
    "dstest = dstest.map(_parse_line)\n",
    "\n",
    "iter = tf.data.Iterator.from_structure(dstrain.output_types, dstrain.output_shapes)\n",
    "(X, Y) = iter.get_next()\n",
    "\n",
    "training_init_op = iter.make_initializer(dstrain)\n",
    "test_init_op = iter.make_initializer(dstest)"
   ]
  },
  {
   "cell_type": "code",
   "execution_count": 518,
   "metadata": {},
   "outputs": [],
   "source": [
    "# create variables for weight and bias - these are trainable by default and change during the training.\n",
    "# The weight has 1 feature and 1 output\n",
    "W = tf.Variable(tf.zeros([1, 1]), name=\"weight\")\n",
    "b = tf.Variable(tf.zeros([1]), name=\"bias\")"
   ]
  },
  {
   "cell_type": "code",
   "execution_count": 519,
   "metadata": {},
   "outputs": [],
   "source": [
    "# the predicted value is W.x + b\n",
    "# the order for matmul is X. W since X has shape (?, 1) and W has shape (1, 1)\n",
    "pred = tf.matmul(X, W) + b\n",
    "\n",
    "# estimate the cost - mean-squared error\n",
    "cost = tf.reduce_sum(tf.pow(pred-Y, 2))\n",
    "\n",
    "# use a Gradient descent optimizer that minimizes the cost.\n",
    "optimizer = tf.train.GradientDescentOptimizer(learning_rate).minimize(cost)"
   ]
  },
  {
   "cell_type": "code",
   "execution_count": 520,
   "metadata": {},
   "outputs": [
    {
     "name": "stdout",
     "output_type": "stream",
     "text": [
      "epoch: 0 cost: 94.672890\n",
      "[[0.01068354]] [0.0001946]\n",
      "epoch: 100 cost: 0.000375\n",
      "[[0.17684117]] [0.00322115]\n",
      "epoch: 200 cost: 0.000000\n",
      "[[0.17717186]] [0.00322717]\n",
      "epoch: 300 cost: 0.000000\n",
      "[[0.17717241]] [0.0032272]\n",
      "epoch: 400 cost: 0.000000\n",
      "[[0.17717241]] [0.00322722]\n",
      "epoch: 500 cost: 0.000000\n",
      "[[0.17717241]] [0.00322725]\n",
      "epoch: 600 cost: 0.000000\n",
      "[[0.17717241]] [0.00322727]\n",
      "epoch: 700 cost: 0.000000\n",
      "[[0.17717241]] [0.00322729]\n",
      "epoch: 800 cost: 0.000000\n",
      "[[0.17717241]] [0.00322732]\n",
      "epoch: 900 cost: 0.000000\n",
      "[[0.17717241]] [0.00322734]\n",
      "test cost: 24.969324\n"
     ]
    }
   ],
   "source": [
    "# define the init operation\n",
    "init = tf.global_variables_initializer()\n",
    "with tf.Session() as sess:\n",
    "    sess.run(init)\n",
    "   \n",
    "    try:\n",
    "        for epoch in range(num_epochs): \n",
    "            sess.run(training_init_op)\n",
    "            _, c, w, bv = sess.run([optimizer, cost, W, b])\n",
    "            \n",
    "            if epoch%progress_step == 0:\n",
    "                print ('epoch: %d cost: %f'% (epoch,c))\n",
    "                print w, bv\n",
    "            \n",
    "        sess.run(test_init_op)\n",
    "        _, tc, tw, tbv = sess.run([optimizer, cost, W, b])\n",
    "        print 'test cost: %f' % (tc)\n",
    "    except tf.errors.OutOfRangeError:\n",
    "        print 'End of dataset'\n",
    "        "
   ]
  }
 ],
 "metadata": {
  "kernelspec": {
   "display_name": "Python 2",
   "language": "python",
   "name": "python2"
  },
  "language_info": {
   "codemirror_mode": {
    "name": "ipython",
    "version": 2
   },
   "file_extension": ".py",
   "mimetype": "text/x-python",
   "name": "python",
   "nbconvert_exporter": "python",
   "pygments_lexer": "ipython2",
   "version": "2.7.12"
  }
 },
 "nbformat": 4,
 "nbformat_minor": 2
}
