{
 "cells": [
  {
   "cell_type": "markdown",
   "metadata": {},
   "source": [
    "Linear regression using tensorflow estimators\n",
    "\n",
    "Using the immigrant skills and salaries dataset sourced from the UFL website.\n",
    "Description - http://users.stat.ufl.edu/~winner/data/immwork.txt\n",
    "Data - http://users.stat.ufl.edu/~winner/data/immwork.dat\n",
    "The dataset is manually split into a training set and a test set.\n",
    "The feature used (X) is '% speak English' (column 3) and the output (Y) is average weekly salary (column 2)\n",
    "\n",
    "This code uses estimators instead of the low-level API."
   ]
  },
  {
   "cell_type": "code",
   "execution_count": 405,
   "metadata": {},
   "outputs": [],
   "source": [
    "import numpy as np\n",
    "import tensorflow as tf\n",
    "import matplotlib.pyplot as plt"
   ]
  },
  {
   "cell_type": "code",
   "execution_count": 406,
   "metadata": {},
   "outputs": [],
   "source": [
    "# LinearRegressor estimator doesn't like column names with spaces.\n",
    "COLS = ['PercentEnglish', 'AvgSalary']\n",
    "learning_rate = 0.0001\n",
    "num_epochs = 20000\n",
    "progress_step = 1000"
   ]
  },
  {
   "cell_type": "code",
   "execution_count": 407,
   "metadata": {},
   "outputs": [],
   "source": [
    "# define how to parse a line from the file\n",
    "def _parse_line(line):\n",
    "    defaults = [[0.0], [0.0]]\n",
    "    fields = tf.decode_csv(line, defaults)\n",
    "    # features are a dict of column name and value. \n",
    "    # this is to conform to the format that the estimator expects.\n",
    "    features = dict(zip(COLS, fields))\n",
    "    labels = features.pop('AvgSalary')\n",
    "    return (features, labels)"
   ]
  },
  {
   "cell_type": "code",
   "execution_count": 408,
   "metadata": {},
   "outputs": [],
   "source": [
    "# Input function that returns the next training data element. \n",
    "# This will be passed to the estimator during training.\n",
    "def train_input_fn():\n",
    "    dstrain = tf.data.TextLineDataset(['/home/harini/tensorflow/notebooks/immdata-train.csv'])\n",
    "    dstrain = dstrain.map(_parse_line)\n",
    "    # LinearRegressor returns an error about something having rank 0 if batch isn't specified.\n",
    "    # repeat allows the iterator to start over from the beginning when one pass has completed.\n",
    "    return dstrain.batch(1).repeat().make_one_shot_iterator().get_next()\n",
    "\n",
    "# Input function that returns the next test data element. \n",
    "# This will be passed to the estimator during the test phase.\n",
    "def eval_input_fn():\n",
    "    dstest = tf.data.TextLineDataset(['/home/harini/tensorflow/notebooks/immdata-test.csv'])\n",
    "    dstest = dstest.map(_parse_line)\n",
    "    # don't use repeat here.\n",
    "    return dstest.batch(1).make_one_shot_iterator().get_next()\n",
    "\n"
   ]
  },
  {
   "cell_type": "code",
   "execution_count": 409,
   "metadata": {},
   "outputs": [
    {
     "name": "stdout",
     "output_type": "stream",
     "text": [
      "WARNING:tensorflow:Using temporary folder as model directory: /tmp/tmpF0M3Fy\n",
      "INFO:tensorflow:Using config: {'_save_checkpoints_secs': 600, '_session_config': None, '_keep_checkpoint_max': 5, '_task_type': 'worker', '_train_distribute': None, '_is_chief': True, '_cluster_spec': <tensorflow.python.training.server_lib.ClusterSpec object at 0x7f137eb6b810>, '_evaluation_master': '', '_save_checkpoints_steps': None, '_keep_checkpoint_every_n_hours': 10000, '_service': None, '_num_ps_replicas': 0, '_tf_random_seed': None, '_master': '', '_num_worker_replicas': 1, '_task_id': 0, '_log_step_count_steps': 1000, '_model_dir': '/tmp/tmpF0M3Fy', '_global_id_in_cluster': 0, '_save_summary_steps': 100}\n",
      "{'PercentEnglish': <tf.Tensor 'DecodeCSV:0' shape=() dtype=float32>, 'AvgSalary': <tf.Tensor 'DecodeCSV:1' shape=() dtype=float32>}\n",
      "INFO:tensorflow:Calling model_fn.\n",
      "INFO:tensorflow:Done calling model_fn.\n",
      "INFO:tensorflow:Create CheckpointSaverHook.\n",
      "INFO:tensorflow:Graph was finalized.\n",
      "INFO:tensorflow:Running local_init_op.\n",
      "INFO:tensorflow:Done running local_init_op.\n",
      "INFO:tensorflow:Saving checkpoints for 1 into /tmp/tmpF0M3Fy/model.ckpt.\n",
      "INFO:tensorflow:loss = 94.67289, step = 1\n",
      "INFO:tensorflow:global_step/sec: 1500.77\n",
      "INFO:tensorflow:loss = 0.44637465, step = 1001 (0.668 sec)\n",
      "INFO:tensorflow:global_step/sec: 1123.91\n",
      "INFO:tensorflow:loss = 0.39247492, step = 2001 (0.889 sec)\n",
      "INFO:tensorflow:global_step/sec: 1434.92\n",
      "INFO:tensorflow:loss = 0.34339428, step = 3001 (0.697 sec)\n",
      "INFO:tensorflow:global_step/sec: 1776.61\n",
      "INFO:tensorflow:loss = 0.29881573, step = 4001 (0.563 sec)\n",
      "INFO:tensorflow:global_step/sec: 1126.82\n",
      "INFO:tensorflow:loss = 0.25844142, step = 5001 (0.888 sec)\n",
      "INFO:tensorflow:global_step/sec: 1048.62\n",
      "INFO:tensorflow:loss = 0.22199348, step = 6001 (0.954 sec)\n",
      "INFO:tensorflow:global_step/sec: 1368.78\n",
      "INFO:tensorflow:loss = 0.18921126, step = 7001 (0.730 sec)\n",
      "INFO:tensorflow:global_step/sec: 1308.01\n",
      "INFO:tensorflow:loss = 0.15984562, step = 8001 (0.764 sec)\n",
      "INFO:tensorflow:global_step/sec: 1224.99\n",
      "INFO:tensorflow:loss = 0.13366728, step = 9001 (0.817 sec)\n",
      "INFO:tensorflow:global_step/sec: 1762.25\n",
      "INFO:tensorflow:loss = 0.11045638, step = 10001 (0.567 sec)\n",
      "INFO:tensorflow:global_step/sec: 1221.88\n",
      "INFO:tensorflow:loss = 0.09001041, step = 11001 (0.819 sec)\n",
      "INFO:tensorflow:global_step/sec: 1332.24\n",
      "INFO:tensorflow:loss = 0.0721334, step = 12001 (0.750 sec)\n",
      "INFO:tensorflow:global_step/sec: 1289.6\n",
      "INFO:tensorflow:loss = 0.056648955, step = 13001 (0.775 sec)\n",
      "INFO:tensorflow:global_step/sec: 1269.96\n",
      "INFO:tensorflow:loss = 0.04338437, step = 14001 (0.787 sec)\n",
      "INFO:tensorflow:global_step/sec: 1465.7\n",
      "INFO:tensorflow:loss = 0.03218178, step = 15001 (0.682 sec)\n",
      "INFO:tensorflow:global_step/sec: 1788.8\n",
      "INFO:tensorflow:loss = 0.02289009, step = 16001 (0.559 sec)\n",
      "INFO:tensorflow:global_step/sec: 1075.91\n",
      "INFO:tensorflow:loss = 0.0153697515, step = 17001 (0.929 sec)\n",
      "INFO:tensorflow:global_step/sec: 1475.64\n",
      "INFO:tensorflow:loss = 0.009489119, step = 18001 (0.678 sec)\n",
      "INFO:tensorflow:global_step/sec: 1284.47\n",
      "INFO:tensorflow:loss = 0.0051243696, step = 19001 (0.779 sec)\n",
      "INFO:tensorflow:Saving checkpoints for 20000 into /tmp/tmpF0M3Fy/model.ckpt.\n",
      "INFO:tensorflow:Loss for final step: 0.5615963.\n",
      "{'PercentEnglish': <tf.Tensor 'DecodeCSV:0' shape=() dtype=float32>, 'AvgSalary': <tf.Tensor 'DecodeCSV:1' shape=() dtype=float32>}\n",
      "INFO:tensorflow:Calling model_fn.\n",
      "INFO:tensorflow:Done calling model_fn.\n",
      "INFO:tensorflow:Starting evaluation at 2018-05-18-22:53:05\n",
      "INFO:tensorflow:Graph was finalized.\n",
      "INFO:tensorflow:Restoring parameters from /tmp/tmpF0M3Fy/model.ckpt-20000\n",
      "INFO:tensorflow:Running local_init_op.\n",
      "INFO:tensorflow:Done running local_init_op.\n",
      "INFO:tensorflow:Finished evaluation at 2018-05-18-22:53:06\n",
      "INFO:tensorflow:Saving dict for global step 20000: average_loss = 5.3316455, global_step = 20000, loss = 5.3316455\n",
      "{'average_loss': 5.3316455, 'global_step': 20000, 'loss': 5.3316455}\n"
     ]
    }
   ],
   "source": [
    "# The feature columns that the LinearRegressor should use.\n",
    "feature_columns = [\n",
    "    tf.feature_column.numeric_column(key='PercentEnglish')\n",
    "]\n",
    "# The optimizer that the LinearRegressor should use. The default is the FTRL optimizer.\n",
    "opt = tf.train.GradientDescentOptimizer(learning_rate)\n",
    "\n",
    "# specify in the run config how frequently to log progress.\n",
    "rc = tf.estimator.RunConfig(log_step_count_steps=progress_step)\n",
    "\n",
    "# create the LinearRegressor with the above params.\n",
    "est = tf.estimator.LinearRegressor(feature_columns=feature_columns, optimizer=opt, config=rc)\n",
    "\n",
    "# train the model\n",
    "est.train(input_fn=train_input_fn, steps=num_epochs)\n",
    "\n",
    "# evaluate with test data and print the result.\n",
    "eval_res = est.evaluate(input_fn=eval_input_fn)\n",
    "print eval_res\n"
   ]
  }
 ],
 "metadata": {
  "kernelspec": {
   "display_name": "Python 2",
   "language": "python",
   "name": "python2"
  },
  "language_info": {
   "codemirror_mode": {
    "name": "ipython",
    "version": 2
   },
   "file_extension": ".py",
   "mimetype": "text/x-python",
   "name": "python",
   "nbconvert_exporter": "python",
   "pygments_lexer": "ipython2",
   "version": "2.7.12"
  }
 },
 "nbformat": 4,
 "nbformat_minor": 2
}
